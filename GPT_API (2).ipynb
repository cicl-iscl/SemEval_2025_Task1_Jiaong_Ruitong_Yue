{
  "cells": [
    {
      "cell_type": "code",
      "execution_count": null,
      "metadata": {
        "colab": {
          "base_uri": "https://localhost:8080/"
        },
        "id": "EHHqVYXt3EOl",
        "outputId": "d2da8a20-3d63-4c19-bc6f-60278eabbb1a"
      },
      "outputs": [
        {
          "output_type": "stream",
          "name": "stdout",
          "text": [
            "Collecting openai==0.28\n",
            "  Downloading openai-0.28.0-py3-none-any.whl.metadata (13 kB)\n",
            "Requirement already satisfied: requests>=2.20 in /usr/local/lib/python3.11/dist-packages (from openai==0.28) (2.32.3)\n",
            "Requirement already satisfied: tqdm in /usr/local/lib/python3.11/dist-packages (from openai==0.28) (4.67.1)\n",
            "Requirement already satisfied: aiohttp in /usr/local/lib/python3.11/dist-packages (from openai==0.28) (3.11.11)\n",
            "Requirement already satisfied: charset-normalizer<4,>=2 in /usr/local/lib/python3.11/dist-packages (from requests>=2.20->openai==0.28) (3.4.1)\n",
            "Requirement already satisfied: idna<4,>=2.5 in /usr/local/lib/python3.11/dist-packages (from requests>=2.20->openai==0.28) (3.10)\n",
            "Requirement already satisfied: urllib3<3,>=1.21.1 in /usr/local/lib/python3.11/dist-packages (from requests>=2.20->openai==0.28) (2.3.0)\n",
            "Requirement already satisfied: certifi>=2017.4.17 in /usr/local/lib/python3.11/dist-packages (from requests>=2.20->openai==0.28) (2024.12.14)\n",
            "Requirement already satisfied: aiohappyeyeballs>=2.3.0 in /usr/local/lib/python3.11/dist-packages (from aiohttp->openai==0.28) (2.4.4)\n",
            "Requirement already satisfied: aiosignal>=1.1.2 in /usr/local/lib/python3.11/dist-packages (from aiohttp->openai==0.28) (1.3.2)\n",
            "Requirement already satisfied: attrs>=17.3.0 in /usr/local/lib/python3.11/dist-packages (from aiohttp->openai==0.28) (24.3.0)\n",
            "Requirement already satisfied: frozenlist>=1.1.1 in /usr/local/lib/python3.11/dist-packages (from aiohttp->openai==0.28) (1.5.0)\n",
            "Requirement already satisfied: multidict<7.0,>=4.5 in /usr/local/lib/python3.11/dist-packages (from aiohttp->openai==0.28) (6.1.0)\n",
            "Requirement already satisfied: propcache>=0.2.0 in /usr/local/lib/python3.11/dist-packages (from aiohttp->openai==0.28) (0.2.1)\n",
            "Requirement already satisfied: yarl<2.0,>=1.17.0 in /usr/local/lib/python3.11/dist-packages (from aiohttp->openai==0.28) (1.18.3)\n",
            "Downloading openai-0.28.0-py3-none-any.whl (76 kB)\n",
            "\u001b[?25l   \u001b[90m━━━━━━━━━━━━━━━━━━━━━━━━━━━━━━━━━━━━━━━━\u001b[0m \u001b[32m0.0/76.5 kB\u001b[0m \u001b[31m?\u001b[0m eta \u001b[36m-:--:--\u001b[0m\r\u001b[2K   \u001b[90m━━━━━━━━━━━━━━━━━━━━━━━━━━━━━━━━━━━━━━━━\u001b[0m \u001b[32m76.5/76.5 kB\u001b[0m \u001b[31m5.4 MB/s\u001b[0m eta \u001b[36m0:00:00\u001b[0m\n",
            "\u001b[?25hInstalling collected packages: openai\n",
            "  Attempting uninstall: openai\n",
            "    Found existing installation: openai 1.59.6\n",
            "    Uninstalling openai-1.59.6:\n",
            "      Successfully uninstalled openai-1.59.6\n",
            "Successfully installed openai-0.28.0\n"
          ]
        }
      ],
      "source": [
        "!pip install openai==0.28"
      ]
    },
    {
      "cell_type": "code",
      "execution_count": null,
      "metadata": {
        "id": "YyDY4AHj4dtj"
      },
      "outputs": [],
      "source": [
        "import os\n",
        "import json\n",
        "import openai\n",
        "import base64\n",
        "from PIL import Image\n",
        "from io import BytesIO\n",
        "import zlib"
      ]
    },
    {
      "cell_type": "code",
      "execution_count": null,
      "metadata": {
        "colab": {
          "base_uri": "https://localhost:8080/"
        },
        "id": "dXyZL8463sWZ",
        "outputId": "7d43f105-5229-4b4e-bebd-ddf0413c33c5"
      },
      "outputs": [
        {
          "output_type": "stream",
          "name": "stdout",
          "text": [
            "Mounted at /content/gdrive\n"
          ]
        }
      ],
      "source": [
        "from google.colab import drive\n",
        "drive.mount('/content/gdrive')"
      ]
    },
    {
      "cell_type": "code",
      "execution_count": null,
      "metadata": {
        "id": "i_DCfA5xN3I-"
      },
      "outputs": [],
      "source": [
        "\n",
        "openai.api_key = \"\""
      ]
    },
    {
      "cell_type": "code",
      "execution_count": null,
      "metadata": {
        "id": "jtpeDtE7OHRj"
      },
      "outputs": [],
      "source": [
        "def load_training_data(example_folder):\n",
        "    \"\"\"\n",
        "    Load the training data from example folder and save the iamges in base64.\n",
        "    Args:\n",
        "        example_folder (str): folder path\n",
        "    Returns:\n",
        "        list: training data list，every element is a dictionary contains compound, sentence, images and ranking.\n",
        "    \"\"\"\n",
        "    training_examples = []\n",
        "\n",
        "    images_folder = os.path.join(example_folder, \"images\")\n",
        "    compound_sentence_file = os.path.join(example_folder, \"train_pie_sent.json\")\n",
        "    ranking_file = os.path.join(example_folder, \"standard_ranking.json\")\n",
        "\n",
        "    # check if the folders exist\n",
        "    if not os.path.exists(images_folder):\n",
        "        raise FileNotFoundError(f\"Images folder not found in {example_folder}.\")\n",
        "    if not os.path.exists(compound_sentence_file):\n",
        "        raise FileNotFoundError(f\"Compound-sentence file not found in {example_folder}.\")\n",
        "    if not os.path.exists(ranking_file):\n",
        "        raise FileNotFoundError(f\"Ranking file not found in {example_folder}.\")\n",
        "\n",
        "    # read compound-sentence dict\n",
        "    with open(compound_sentence_file, \"r\") as f:\n",
        "        compound_sentences = json.load(f)\n",
        "\n",
        "    # read standard ranking\n",
        "    with open(ranking_file, \"r\") as f:\n",
        "        standard_rankings = json.load(f)\n",
        "\n",
        "    # read the iamges\n",
        "    for filename in os.listdir(images_folder):\n",
        "        if filename.lower().endswith(\"_merged_format_compress.png\"):\n",
        "            # extract compound\n",
        "            compound = filename.split(\"_merged_format_compress.png\")[0]\n",
        "\n",
        "            # check if the compound has conrresponding sentence and ranking\n",
        "            if compound in compound_sentences and compound in standard_rankings:\n",
        "                sentence = compound_sentences[compound]\n",
        "                ranking = standard_rankings[compound]\n",
        "\n",
        "                # abtain the iamges and convert it to Base64\n",
        "                image_path = os.path.join(images_folder, filename)\n",
        "                with open(image_path, \"rb\") as img_file:\n",
        "                  image_base64 = base64.b64encode(img_file.read()).decode(\"utf-8\")\n",
        "                # with Image.open(image_path) as img:\n",
        "                #   img.thumbnail((640, 128), Image.Resampling.LANCZOS)  # 调整分辨率\n",
        "                #   buffer = BytesIO()\n",
        "                #   img.save(buffer, format=\"JPEG\", quality=30)  # 保存为压缩的 JPEG\n",
        "                #   buffer.seek(0)\n",
        "                #   image_base64 = base64.b64encode(buffer.read()).decode(\"utf-8\")\n",
        "                #   compressed_data = zlib.compress(image_base64.encode('utf-8'))  # 压缩\n",
        "                #   compressed_base64 = base64.b64encode(compressed_data).decode('utf-8')\n",
        "\n",
        "                # append the entry\n",
        "                training_examples.append({\n",
        "                    \"compound\": compound,\n",
        "                    \"sentence\": sentence,\n",
        "                    \"images\": image_base64,\n",
        "                    \"ranking\": ranking\n",
        "                })\n",
        "            else:\n",
        "                print(f\"Warning: No sentence or ranking found for compound '{compound}'.\")\n",
        "\n",
        "    return training_examples"
      ]
    },
    {
      "cell_type": "code",
      "execution_count": null,
      "metadata": {
        "id": "BYjbnFfWocBI"
      },
      "outputs": [],
      "source": [
        "def load_evaluation_data(evaluation_folder):\n",
        "    \"\"\"\n",
        "    Load the evaluation data from folder and save the iamges in base64.\n",
        "    Args:\n",
        "        example_folder (str): folder path\n",
        "    Returns:\n",
        "        list: evaluation data list，every element is a dictionary contains compound, sentence, images and ranking.\n",
        "    \"\"\"\n",
        "    query_data = []\n",
        "\n",
        "    images_folder = os.path.join(evaluation_folder, \"images\")\n",
        "    compound_sentence_file = os.path.join(evaluation_folder, \"test_pie_sent.json\")\n",
        "\n",
        "    # check if the folders exist\n",
        "    if not os.path.exists(images_folder):\n",
        "        raise FileNotFoundError(f\"Images folder not found in {evaluation_folder}.\")\n",
        "    if not os.path.exists(compound_sentence_file):\n",
        "        raise FileNotFoundError(f\"Compound-sentence file not found in {evaluation_folder}.\")\n",
        "\n",
        "    # read compound-sentence dict\n",
        "    with open(compound_sentence_file, \"r\") as f:\n",
        "        compound_sentences = json.load(f)\n",
        "\n",
        "\n",
        "    # read the iamges\n",
        "    for filename in os.listdir(images_folder):\n",
        "        if filename.lower().endswith(\"_merged_format_compress.png\"):\n",
        "            # extract compound\n",
        "            compound = filename.split(\"_merged_format_compress.png\")[0]\n",
        "\n",
        "            # check if the compound has conrresponding sentence and ranking\n",
        "            if compound in compound_sentences:\n",
        "                sentence = compound_sentences[compound]\n",
        "\n",
        "                # abtain the iamges and convert it to Base64\n",
        "                image_path = os.path.join(images_folder, filename)\n",
        "                with open(image_path, \"rb\") as img_file:\n",
        "                 image_base64 = base64.b64encode(img_file.read()).decode(\"utf-8\")\n",
        "                # with Image.open(image_path) as img:\n",
        "                  # img.thumbnail((640, 128), Image.Resampling.LANCZOS)  # 调整分辨率\n",
        "                  # buffer = BytesIO()\n",
        "                  # img.save(buffer, format=\"JPEG\", quality=30)  # 保存为压缩的 JPEG\n",
        "                  # buffer.seek(0)\n",
        "                  # image_base64 = base64.b64encode(buffer.read()).decode(\"utf-8\")\n",
        "                  # compressed_data = zlib.compress(image_base64.encode('utf-8'))  # 压缩\n",
        "                  # compressed_base64 = base64.b64encode(compressed_data).decode('utf-8')\n",
        "\n",
        "                # append the entry\n",
        "                query_data.append({\n",
        "                    \"compound\": compound,\n",
        "                    \"sentence\": sentence,\n",
        "                    \"images\": image_base64,\n",
        "                })\n",
        "            else:\n",
        "                print(f\"Warning: No sentence or ranking found for compound '{compound}'.\")\n",
        "\n",
        "    return query_data"
      ]
    },
    {
      "cell_type": "code",
      "execution_count": null,
      "metadata": {
        "id": "LLJVdkrTmFO8"
      },
      "outputs": [],
      "source": [
        "def generate_prompt_with_images(training_data, evaluation):\n",
        "    \"\"\"\n",
        "    According to the training data, generate many-shot-learning prompt。\n",
        "    Args:\n",
        "        training_data (list): a list contains compound, sentence, images（Base64), ranking of the images.\n",
        "    Returns:\n",
        "        str: prompt\n",
        "    \"\"\"\n",
        "    examples = []\n",
        "    for i, data in enumerate(training_data, 1):\n",
        "        image_base64 = f\"data:image/jpeg;base64,{data['images']}\"\n",
        "\n",
        "        # build examples\n",
        "        example = (\n",
        "            f\"{i}. According to the meaning of the compound '{data['compound']}' \"\n",
        "            f\"in the sentence '{data['sentence']}', the rank of the images \"\n",
        "            f\"{image_base64} is {data['ranking']}.\"\n",
        "        )\n",
        "        examples.append(example)\n",
        "\n",
        "    # build query\n",
        "    query_base64 = f\"data:image/jpeg;base64,{evaluation['images']}\"\n",
        "    query = (\n",
        "        f\"Query: According to the meaning of the compound '{evaluation['compound']}' \"\n",
        "        f\"in the sentence '{evaluation['sentence']}', rank the order of the images {query_base64}.\"\n",
        "        f\"Output: [A list of the number of the images], for example: [1, 3, 4, 5, 2]\"\n",
        "    )\n",
        "\n",
        "    # concatenate the prompt\n",
        "    prompt = \"Examples:\\n\" + \"\\n\".join(examples) + \"\\n\" + query\n",
        "    return prompt\n"
      ]
    },
    {
      "cell_type": "code",
      "source": [
        "def generate_prompt_with_images(training_data, evaluation):\n",
        "    \"\"\"\n",
        "    Generate a many-shot-learning prompt with detailed task description according to the training data and evaluation query.\n",
        "\n",
        "    Args:\n",
        "        training_data (list): A list containing dictionaries with 'compound', 'sentence',\n",
        "                              'images' (list of image names), and 'ranking'.\n",
        "        evaluation (dict): A dictionary containing 'compound', 'sentence', and 'images' for the query.\n",
        "\n",
        "    Returns:\n",
        "        str: The formatted prompt with task description.\n",
        "    \"\"\"\n",
        "    # Task description\n",
        "    task_description = (\n",
        "        \"Task: Determine whether the given compound in the sentence is used idiomatically or literally. \"\n",
        "        \"Based on your determination, rank the five provided images as follows:\\n\\n\"\n",
        "        \"- The image most relevant to your interpretation should be ranked first.\\n\"\n",
        "        \"- If the compound is interpreted as 'literal,' place the image that reflects the compound's contextual meaning first, \"\n",
        "        \"the one representing the idiomatic meaning in the penultimate position, and the irrelevant image last.\\n\"\n",
        "        \"- If the compound is interpreted as 'idiomatic,' prioritize the idiomatic meaning accordingly, while placing the literal representation \"\n",
        "        \"in the penultimate position and irrelevant images last.\\n\"\n",
        "    )\n",
        "\n",
        "    # Build examples\n",
        "    examples = []\n",
        "    for i, data in enumerate(training_data, 1):\n",
        "        image_list = f\"data:image/png;base64,{data['images']}\"\n",
        "        example = (\n",
        "            f\"{i}. Compound: {{{data['compound']}}}; Sentence: {{{data['sentence']}}}; \"\n",
        "            f\"Images: {{{image_list}}}; Ranking: {{{data['ranking']}}}.\"\n",
        "        )\n",
        "        examples.append(example)\n",
        "\n",
        "    # Build query\n",
        "    query_image_list = f\"data:image/png;base64,{evaluation['images']}\"\n",
        "    query = (\n",
        "        f\"Query: Based on the compound {{{evaluation['compound']}}} and the sentence \"\n",
        "        f\"{{{evaluation['sentence']}}}, provide the ranking for the images {{{query_image_list}}}.\"\n",
        "        f\"\\nOutput Format: Provide only the ranking as a list, e.g., [1, 4, 3, 5, 2].\"\n",
        "    )\n",
        "\n",
        "    # Concatenate the prompt\n",
        "    prompt = task_description + \"\\nExamples:\\n\" + \"\\n\".join(examples) + \"\\n\\n\" + query\n",
        "    return prompt\n"
      ],
      "metadata": {
        "id": "QuQgi-7Ptl8F"
      },
      "execution_count": null,
      "outputs": []
    },
    {
      "cell_type": "code",
      "execution_count": null,
      "metadata": {
        "id": "wKsTqLCAh4so"
      },
      "outputs": [],
      "source": [
        "def call_gpt(prompt, model=\"gpt-4o-2024-11-20\"):\n",
        "    \"\"\"\n",
        "    call GPT-4o API\n",
        "    Args:\n",
        "        prompt (str): prompt。\n",
        "        model (str): the model to be used\n",
        "    Returns:\n",
        "        str: output\n",
        "    \"\"\"\n",
        "    response = openai.ChatCompletion.create(\n",
        "        model=model,\n",
        "        messages=[\n",
        "            {\"role\": \"system\", \"content\": \"You are a helpful assistant for ranking images based on the literal or idiomatic meaning of an idiom.\"},\n",
        "            {\"role\": \"user\", \"content\": prompt}\n",
        "        ],\n",
        "        temperature=0\n",
        "    )\n",
        "    return response['choices'][0]['message']['content']"
      ]
    },
    {
      "cell_type": "code",
      "execution_count": null,
      "metadata": {
        "id": "wZ3YqAOcs3i3"
      },
      "outputs": [],
      "source": [
        "train_path = '/content/gdrive/MyDrive/CCL/GPT/training folder'\n",
        "eval_path = '/content/gdrive/MyDrive/CCL/GPT/evaluation folder'\n",
        "training_examples = load_training_data(train_path)\n",
        "query_data = load_evaluation_data(eval_path)"
      ]
    },
    {
      "cell_type": "code",
      "execution_count": null,
      "metadata": {
        "colab": {
          "base_uri": "https://localhost:8080/"
        },
        "id": "oSI7ARKG4fzU",
        "outputId": "18cfa337-0534-4840-fa86-9bdf514b6684"
      },
      "outputs": [
        {
          "output_type": "stream",
          "name": "stdout",
          "text": [
            "dirty money\n",
            "When dirty money disappears offshore, it becomes more difficult for governments to tackle corruption.\n",
            "[5, 4, 2, 3, 1]\n",
            "bear market\n",
            "Our exposure to technology, sector bets, and decision to increase equity exposure during the depth of the bear market helped position the fund to outperform.\n",
            "[3, 1, 4, 2, 5]\n",
            "white elephant\n",
            "Miami's original Metrorail line was a white elephant when it was built and it remains one today.\n",
            "[5, 2, 1, 4, 3]\n",
            "beached whale\n",
            "One scene is the Strip, which he described as a beached whale, and the neighborhood dining scene, which is making successful efforts to adapt.\n",
            "[3, 1, 4, 5, 2]\n",
            "banana republic\n",
            "They are a boogeyman he scares you with while he colludes with your enemies, turns your country into a banana republic and uses the office to enrich himself.\n",
            "[4, 5, 1, 2, 3]\n",
            "[5, 2, 1, 4, 3]\n"
          ]
        }
      ],
      "source": [
        "for i in training_examples:\n",
        "  print(i['compound'])\n",
        "  print(i['sentence'])\n",
        "  print(i['ranking'])\n",
        "print(training_examples[2]['ranking'])"
      ]
    },
    {
      "cell_type": "code",
      "execution_count": null,
      "metadata": {
        "colab": {
          "base_uri": "https://localhost:8080/"
        },
        "id": "kjAtjyYI48xP",
        "outputId": "9fb61b21-db86-4061-e5b9-0037d99eb5f8"
      },
      "outputs": [
        {
          "output_type": "stream",
          "name": "stdout",
          "text": [
            "5\n",
            "8\n"
          ]
        }
      ],
      "source": [
        "print(len(training_examples))\n",
        "print(len(query_data))"
      ]
    },
    {
      "cell_type": "code",
      "execution_count": null,
      "metadata": {
        "colab": {
          "base_uri": "https://localhost:8080/"
        },
        "id": "8abwHQWf63QR",
        "outputId": "34c3a8ca-1aa9-45f0-9453-7a0cf3a843a0"
      },
      "outputs": [
        {
          "output_type": "stream",
          "name": "stdout",
          "text": [
            "5\n"
          ]
        }
      ],
      "source": [
        "with open('/content/gdrive/MyDrive/CCL/GPT/train_pie_idiom.json', 'r') as f:\n",
        "    train_pie = json.load(f)\n",
        "training_data = []\n",
        "for i in training_examples:\n",
        "  if i['compound'] in train_pie:\n",
        "    training_data.append(i)\n",
        "print(len(training_data))"
      ]
    },
    {
      "cell_type": "code",
      "execution_count": null,
      "metadata": {
        "colab": {
          "base_uri": "https://localhost:8080/"
        },
        "id": "7PVIb3Ri7wN4",
        "outputId": "927f1278-22be-4f75-e5c7-6957e4ec8ab2",
        "collapsed": true
      },
      "outputs": [
        {
          "output_type": "stream",
          "name": "stdout",
          "text": [
            "Examples:\n",
            "1. According to the meaning of the compound 'dirty money' in the sentence 'When dirty money disappears offshore, it becomes more difficult for governments to tackle corruption.', the rank of the images data:image/jpeg;base64,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 is [5, 4, 2, 3, 1].\n",
            "2. According to the meaning of the compound 'bear market' in the sentence 'Our exposure to technology, sector bets, and decision to increase equity exposure during the depth of the bear market helped position the fund to outperform.', the rank of the images data:image/jpeg;base64,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 is [3, 1, 4, 2, 5].\n",
            "Query: According to the meaning of the compound 'cold feet' in the sentence 'True, some investors may still have cold feet from the summer of five years prior and the consequential financial collapse.', rank the order of the images data:image/jpeg;base64,iVBORw0KGgoAAAANSUhEUgAAAoUAAACBCAMAAACB+TDZAAAApVBMVEX/////BAT19fX//Pz7/Pzq/P8hHBnw8PD5+vr/AAATEA3yqkz0/f/+kpIuJSD8///j5+j1tIX1v5spDwU7MSvY2tr1vGBhOh6noZpIJxTqn3PIzMy7gWRPPjX40bLJlXhulZFncWmEf3OZjYBmUEPUhly8uLW+YlHKr5/139T2ewuOX0XaqYnOYmOJLwjodXatTRTeYAffx7qCtbzvkjr8SkrTeChQhcwEAAAgAElEQVR42uybeY+qSBeHy6IUMLI0SES5+IblMk3suSYmfP+v9p6FVVzAzrTzxxxsNlGL4uF3lqKFaZqL95lpvvf339+Cf0cPvLkBwvzP/rN3G1BY/f0+q7ANlfU++68B/4YGiIV5XurL1nqry2d7v2/u3+gLLEfcMqfd7dDWyLoD+/u6966Pu/X1Fjbg7GzeZcu6B95n1oNL8CMGDUAKN1Iz0HCujFt2e+/3jSg0LWVoj0zd31Tjtx9+w+hYvAbm2XB1Xe//NStX6+5w6lab2fVr9IXdDj7E4B4wZDv1Vh9O/VUphTbz482kLL4E2tuMKFycNwYiWe/DtdHEO/nV7dTEcEsTV0fc38UfUDWFjkaCx7/vjKZuVYMJPgjH40r9nqYc3qx3KZS/3qT1v2Jg8GtM4UafZ25NFpv+DdvUPSCbG1NOvIFFczzgCKcVReo1qXCs5hKMLvks014TQr4EpIVAoaNqgVbqhmqrf8QXCK1Poda1646RYxaG7HDSeAXah2y2hzla/0PEoHBud90NCqV8xiBYEMCLzW018dsUSoU2BR7N1VEO+UTdIk8MQ2ckX6bwW6bqq6DUbHobLYTrCkFa6VnexV3+mG36FKI2YgOO+s3bqhU+OM8Ab5QWMCH0APc6jdZputGJIQGpOQ+7YEhh6ZZltxXosgWvdry0ivRFbISh2x7QrLxAIYga/doEdqTIMmi/4QZFmOb2epUlSSTJp80EsaNQ9s2YjaHBLAr1EoWQnSCF1gKrRuaiuryDQuiDtgHlCENWOnopUYQB3HGdxCkjzEODOaRjA735QOOKGyEcu+Q+hUjAssIC1shDg+4xbbhA+UMEi0tRfBZFVES1IhKitT6+QKGETAF/vXKecgSQxNsizWN7tUZbwcKOt3Gehi70xHQQtR6FVb+GZ810sVkc56EuAvz9WZLY10K9MhdN6dJ6hxaWC/NuDxCANUxKRNukwNNUTuOQVRHHoWSPgBRGooFUYzV0ei79IYUbShjHcSJgFQFvQF8BhgSihZ8hWxHRu7WhQBbBHerkfQqdsjInUSilEtma+fNXaDhfs60QBsHJyywt1Bb92vV5DoVKC/Zgfly4vp8awnlFC4FCPH8uIEJbyp+nUC4GDRhhyCw5QpdCJfttGnA4iIZkysyOCwPhQwqRyIa+Kw4fUyhLruWfl1dSCH43QtqKIoPFJ/3hPAuzLMMF2ifhCYcioZ+RnKeFygBnQL1wk0LZYxACwQQgBPbWPnAIE6zihDMA0U4KST6y/pgcfIvs7+m0UEj0RW0deTqFJHt6vN8Chn4a+n4ulUyyqSh2Wugc6fy98lJhS6ofpxBbYpqVV3rcgGEXdOmFphdKBDH4niQMZBeSgELGdhJxUGJkES25djhMTZyHceESPYI5ppCkL8uKMEvBGL2MLYU30nodRbGAGQukK+dQaMiqvgXN+1pIAMFtltrEHmkhM7gmOYQliiPs3kL/6Pc4Hmy2FOqIoHU8evQqp6ogR+ZRGO9JDpMcMASl9ouJAWKnhU7VSiCt6T9NoYE9UFGjSBC0YWWlccnAVBEKCQ443kIQlMB1jwKdz1ZP7ThzQQ6VCFPh1KmJ048On2Un4I8hLDXHHrkI3ALoiwC4NElgLeW/E0wA4iklyxqj1TQ05lCoSrwNj9VDCiktcZMVBoIrFsDaHxOD6xWjiStriBELOSMuxJgIrnxbkZuYGEN+nuY7JtD2ffDKvu9nMEuEMVMLDQxMWQFRlBbuT1OoVxwOwtmfsQGSxFBzelpIG5CdhJmuhyCGACI4AYARujsLI4iFQnubQ8RoCDcO+EZUrWvWJuXI2AvnmsKuXiOLyA2gq9PICE9pnhN8p54l9TI9/Up/ZRAvJkhnOhJD+ZBCc2FJ5xmFUhQ2JSPkfBsSmcE1rdTh4ToJhCNnxIWiRCku21rypAqhukC/7HYxYmgjiJ3ls7UQetwt3e9Q6GyWOBz1enYCzhbLNQZTqAlWw640XW9omgrB2YQ54tfYFgxctIy29jbV4TvyVBgUReq9j9+SwwGFGwyO3VYLW2bcNFJRGu92pxDgywm4HNFLM1jmOc4aEgG/S1DAvrT4DOQsLaxKx1DPKBQpMeg3ooe+eMUauGLH3Hpq5NC4jgNHUthReOTbf3IJWkFWeNqhkTNm9joOQQuVM0cLl1wvXLYeeb6q1SXlb1BYn7lWNXFhG9FprUNWdF5ulmTpEEF20VkR23YOQWHoR1S4cSU3S7uqZN+kcOnBL1vLGx75E1PgfL/L0dPmpxY9nNVLwC6vCc2KLAbhhJz5GYVykCM7jmy08L4SIoRrYm9d49ZYHRyiMvI7qxyy5Rtx5RWULYV4+gtRWpblTQoKtQAYzAlBG73x3h+QiCWbKXLYz5Gd+qEFi4PzuRRu2qcINi9TiKMmsqy6HNlpK9FOXZnBmmwAOUKSN9aSiHM7zu2tbYcisLcu9kBA38C58nMtxMBMjiiUUpZfv/73edrnkAYH0WkHyGUwy+ES7FLY5CnMEUPYe4IwCS5P+uXNolAhGzco7JEjRUSyRwK44oyYJo4PfQKRJvbJbuDOiAvJC575acOzfI5PiCcLp4o6uPf7zphB3GPJSM2qF9Yq5i1eccgEIeejc+RwSCF8uKJizWJxbD2CaowTkADSg1M+QDDvSyIgaG+3fiZyP4e8WY/q2s2gdH2Hwg2EAotyRCGScvn6OhwOv399FmEQYRyEfzvwvrTcsVva/clpB2zt4dLsfh8+jvIhgOMRvCdaKEXChDVBYWdNorJaN2iCxYaSxrPx6SGFNHJAt6P2GB2ZYS/E+5gCQsRu71+huPb3hXjqlcdaSMMXpjdfCjfts1di87oWctHWYucMUV2hd8WaIYFxLyiMIUVpX9s9cLhOE3uVChFhkuL0PPKDqvUSwyJrQ8HhgMIgunjeh/f1cTgc3UjPdo2dsjBnIE/MIUrDH6ZwfwIIPa98gKAc1QuNKy2U47FjVkKmjcNC/lvXIFL1etXkyutcPMq2r7WQH3tmMbwull2bTPF0412dHQ/x61n2FMORFp6pDdYLEG42OFoBMOL85biQb8QFhOk0HqnSOM1wpALrdI0TbsSv1UBSQQIQchNQQpBD2wcU/VAPecCZU5tnHpkEoC4Z9j2yG1w+vCOA+HH40KXoKNzlBN+f3S5MWR3/tO/89fuAFB7LeU8zPM6RpcZS2EOxHrzrhYhcrmm2QyGfPabTUnimp12PZclaVD7AUDMIQspLKDWx/XskZs+c8nAcmRIT0OTJEG6u5ZApFGJqrjzSQquqWA6POBinhAuCz8Tl19ZQuG8wZCEEBvc2GazmujLaR1/FzSGUlsLaH3cUSqMVLs9DCgHDDzjgBDFf1kPxtLthvw+XA2PoPqvVTKdQohRyVOivB0Mm/qrbTRi25Rpbf5yc9HJkzcPnnpvHThePBk+UyAhCLlTv7wohBYjREwz7ObJa6gzA5GcZAJQBkFiq4ZHcqbHhVaWGn2IsF03BwDFEFG/jEYcIYN8lkyuu40KUQ5ZCmFYhRgn0pBoVsB955As2A8+BKYRz6R6y8ciO3sfhuAlQ6bK8xe+U7W9R+FV+1BgO0FOy3pDtzslxIXRJ1ibHFHURcat1PW6CftlvRlBaNQyFnP58ocZPidKI8gOXrMQnxYRUJ+ziwi4c5AY2dUOlpmshQWhW7gw3rDZIXieK6JYJw83LOTL0wxHdgSV5RCTItwMGrwls6jRbxJUFkcTQJz30U9dp/iVAiFtDKC2FePbnc3U+n+kKnM9dgnskCA8ghYejE+0p+Xhif8GxJJ7/p+VsmBNVljDMGUdkWQIiujhETamIyyF1cyqVvf//p93pjxmGL2W3zkXNKkl2N+Hx7X67e6aXGoqhJnbnCyc8MlYK12euAzKAeMFt/zgMW5uSGS3Uvysp5s7U2Fr1wqNq2SQ26wbDMbqwnhTy+yNzOHzSynPywoVEJZzfQI6WvGyiSxxNV/1BXhis6npBxRrA4CXY8ezepaOCyCGzWJIOUqkQPxp3ghBmsb4k8RmmC0TSzlxPaCHb82+2od+mhhuMxlrZdGLo7cH+8vGfIX58cQ6nT50TftYaw3pqeFY80cIePYvd9WzzP99KDtdp7C02rT360qpay8dt5DYvbAes25rtODZkj8kgkxQ6Whj29bCZRSF6ZOhYQJ1w9VuuxH0l9COgy/z7Wgj+7Bt1jzAkf1CLHAYFzq0tLq0rIQZJCJlBtaWwHBt/Ag8/KysciTcuZTGphb3DUCjqVDtkjdNnoUlcVbmDofYlZZ9DrQ+XQ6HhIwEdpVBMzBcGgnoncmQqS6xfYzO9wD7Eqcn47Vmaq2E1jL0nywhaLVzpvPCjXjyNyFoKqVTKSmiiseqEZEcO1erheE13puZ3lNBJBl2XEkS83k2OEDf0zg6F9O/b1JgnDOHxSuEYyEMVLC2DR8tgCRVrYFDFEJDRn/gkh3Hmn3eeZ4cRp2ZqPn6ZA436r18vZqxGCxqkhHW0+Z5+nZK1toOqE5OVaswTLQ6ZKtf1V3FaFgVmhqOVGqdU01ZqcGEFaSE87+MifLQjAFoJhfFu5wQBjMGsuh0+mMQUo92TYV5YfzMDJe4lGMsK90YKDYQGxBY+G5ifh2QnL8SJpg+7QrR+4owpGgcTdcMxe4Ji1DPPbkRGT9IrE2h74u23Rv0sjVYIwSBvt8RgDCcwGcSPijJD+KCjF8w4SLehPKRQUHoRGXfihE8QwrTQolh8/6rFDgZH4HevGEZ1uZa2f7Av9bNKFEUtEMJHheueFooaDqQQn8l+7+58JdVTWpR1dnA7NLmC0ByrY142zeGG3N/uuSOY+9383glNmdeipjnH1SQ2DSmhgolCeNMPitVhNzfcz6FQe+S6F46mqjXakCSj+SBEctFS6EU95YuSkZK2O1+4QYPeLZlKb3WOj65JNjhyoZCFEKIwQohSuOVajY93hFHH5R0tCOCWtJ00HK47oaq1O18I1zxNsWRzWokdFseUuWcw2Em/bWXg3CcIb/FVFJs2CAunYB0MtTA5dfcL6RnlxXoPFhnoKkhl8XCemldF0bCH0cfVlULxuF6ItpA6J3DiYUDWQsha2CkUhs6jVcPLTC2se3uVvEwlghJ9cNRNB1fOFxgHkCSDaiIEHOmKqnQ98ss3WnXC7aMFzvYfYwANULMNE9M5pno1MqgDsRHCmMvWJIaQq5MiZv6e10d1w/IUhVGfwg0U/iKBFHaOzGcA7ZHTYKE4FcBuz40E+o8AnosehdGpKwQ9CnWqKM8ohTkapfRH2tJHCKJC4qGsGl6eFWrcdScvhoFHo9bS+8RqdU7GJFO2cxe6MIatQQnLeVoY9bRQUyiWfbWLTHUmQgyFcSRd35zYgcCOEhK+TmMl6q9+WpzYIOj3ALg1qfOPbUzAOV1jVkIHwhilkMvVirSQw7EPj4w+E14WEJUdMRyncPmrY5BR1IrN5+fONPQ4Jz+ay6AjdIwZmaGw/NmvCY5Vrvv1wuQxhaaJ7Id3TRsh+KNF8IcFESjMbUg2FIo56048cwm+/do8LBbSPKEy4WBQqrHRmDgs52lhtKqhrmBvdjkoBt7IJoNUn5G9yRlBNAqiNOG9N2z4ZXSpueK1dqanhfqnrrVJ+3g5CebkGhNkDoRtuXBrzAlBaIQwNh5ZUTj2GUNA87waLgAYUijqz9Nn7aSFoGmfu80J9UtTmKNHdtXQaCEWElXZXMQfrEcOxOlUu/eRqa7zUYN1S8cPJJMobGwj5VHRWvR6J+0lqL1HfZOfOb8B44l43EsPw/PMvDBA6YrMDedVRSuGEZdlIjtAs3SVEL4jQNaCiMMeNi2iyERxOnRSKZcTWuh5zoghPNZXJK/c7w2DFJhbIdyq45HAUxZC88IG4hgips9zl7tEwrtjMRmRAR9Ib0VHyDab9BP8BmkhF60V3ezlyEuFJ6/V5fJ0nGt09RPEGHDH/GQ44LqvdEz2kTU6NgMUicK76a2E1dPWibsq3lyCR1szaApVro6OFDocqlseuppIYF7c2X/Zb6U4HnkhWdKEgStaLt1T7EeiJUXWyCkSmgI2R2tQyoTQa+00fZY0NDISK3u9E2fWXK5hice12nnBmYIwuuHSCCEM0mAKSL1jE45NVqgJ3La1mjDG1UiXy+s66InhvB1CiuL79680YgpZC2m0Tt+zLSaDOZ2Brt6jdU9iksLAbDLD9+FEzXodh3GL3CbdbBwSCxuSb7QUTx+7ZzuPLLp7Mzyf9oe8ULVFmk4sznXG2oSOGJIa7nsrUJLns9YjkwomGi+plgFaaEM0lWwi+9QeACJDuDQBGSuJbWY46OBR/R6sbLB73a3x/34lCNXRQEj9YmDwCOBtrS8hKaQEkZNBrBdm/vHMP3EQ9MYapins0FJ8ff1dGC3Mcayw1UKFFFYkkPjYBavVrKgcjOxTM70EVAZe6VI4rYY5Xf5w+//YIUSUyjqTDoMH7JwfbFQONafw3JlnSFaXS9XFsDdfyBplZJDgiqI2UBstBJiohQw3Yb+qe9iiDr8EjwymBaMyamjQp9BOo+Jk1wJWeO5MVQYgpDVP3KtTNNKqYkOhIhCxjZzxCR2SNYjHM4zXBJyyursnPaDQ3QSpvhUpR+RXhW06pRg5MCoZ/gEnjohmJdv4PhKHg/GJ/1nbglgKN+nbASPz5nYoHJtcmMQQ1PDsicfeZPH7FErv2h+k0aip5g21GRpGOZ++a1VW+nNt70R/r78Nu1XsUS2MhC1NJ7YqQ6AFUNvVz4kWM8oQdZNHo46S8kSgMbBY0r5LgbHcXQptHWWxMBsgSdx4AvvFJbVJUAmxQriNWQoVE2ekEDXQpyINuGSdqe+vZ4EDr4mzxn5htfCvj+RxBgcTX1xpebX4XUrSwvxiuincUeGC4fPjdykMvFekcJMWbzjWjewd9JMeiDdAY15a+AcU0j4MjhLeYaT37XB4e8cRuM0dzx7gHfGhwqOBEERFX0Kt0MkjLRSRzh0jyZAE7GstgwYvnlKhT5gYK1q7MhBGSUwaEBOyLYO80MKR2MLyCsIxJIFIInVM9MuYs8G4DcfoivmVysEbhz5rYZyVq712yLQIxe7V4GphMtfSBhWhZlnUprjKOCWE0eP8WKqrnBORxfjOcY+re9tMo9ZgxTjPSwLP4p+Xh7ZWk4Xl4RREU0VrMZoXzsPwkqExAQVsmntzg9mhhpqI5bvBUGkE/3vXsuyak0tcQrbqimFv1to4CK1VqHEJFam9xOZ+NuNLHONL5RdzF8axdGhMrHsBDkFhk6EWmnRNnFY8pyi96mjKg23XmISQ7YhiTUQ3grqo7/k91ggihn6G9ZpXr7rsaDkVj/4vkvnuxMFGVjw3YxhUqtlxOLbN5UZMOZNuDfGpFoqRmuG7zry0KS8brT2kf4emsZWjA4Vk7ZJDpSUzrZMnf+WfULgzCNKgEQTiUxMe4X90aDAq66Ccp8U/Ny3LbE5gLdr+qjVEZ6siSaZmrbmkIrHfS8yAgpmXLXfElbRZH4TZqC0n6kO0++V2VVEaFIHCSA7dCWyQGXz9LQ2FF4zEVgqtMyHV88NOUsgv/Ly5l2GGGMKsEw4awvrRKmj35DTLmy2Fcp54BdUV2sY5Fwd1klheBb9iDkunVCMGFD7Yp2ZOYliF72msEXzrehJ99Rts7maMYZ6FTXq73QrqR4s5vZP5GF4hHN/ujYatoQngzen99P7+8+0dp9I3OiVo0vsdkwNcDSm91QVaC1ssYgZT605s6IQr5OIGjsJaEafywiVCyX4YvltGbv3QmGenCuniDX91dw0erz72kqJIaO3cmof61dHIIA/OEISqaTt3Wgo5Ssf3++Huh1guhKlPEMOt0L+J12rNOxuaPcCcaQZPzorIcl9VTc7zXAqWgl4rWdoiDUwYNtX11RiQ3VrM3JthTkSWsP7pPT2MeWNsIwOMRKF+G96QwlT+2x4ZtrwoIeI2kHuWJ4JQYwg781RXcigqPKQghS9NSRCuMbHHje4q3t1mJC+0aof7DDnyhVtjRcuhCe4KHLXokLyAAW1pDczZyIVY9lc/mZXD3oYXnuxocjBmLdyaEcK8AR+c3+9H0ynBph0GZ7/RFN5KohBuKIbV/2g7F+40mSaOcxYKHJIIIlREZBWQiNA+iXr6/T/aOzO7y028pOm7aOM9tP35n8vOzmKzBsOzZMLQFfM7PYvMnpzwCMMyo8YsS6l+hedmPWsMEEbRYUChvLDJPNAoX/gwPikS359K0sTxIHFdOKv5/g9iaBnPziN/odmbtwGxWzjLpJEMwiUia1YmVBW8XMxjXAIWL0VEbGGGQzZbdJp+i4KhFhrS45Pr27F43zBUGcJrK4dobWleZZpKu3drir2BVe9T2Cu8ghi5QlrALVTtaIQUytIZ8PuQwiJJkr4UygzhBiBMUAxBBKkWHp9wcrAC9P3SZcNXUen15b7WbB2GZJIz5RoWtpVnqsx6ia0ZojxnPSOMJLLn1iM/YZKjBCvNktViw3scJti8puBdrmbpFPF+/+sCJvn133cU1jVrB2rIUx9McOoLKSy1ssRWVRifzFe1TyejpHBXbGYKQuf3peo4HPiFKsNnkH01ZEjR3qIEIQTRMmB+fb2tjRNkGlIRR2NskXWpUJgqJAqjQEhhQFI4k/eK9/faNNEX5oLClWkuVLJwBQzu4bJ0THO1ckzpGBZtLzlhjhmJ4hco9GQWMYrWOdJXq2xhYa+XmMfNCMmsXHtRkbGppceTpvlLfiFoYQjwQUC6KQKHeBQQOjvs0RTUPQprksL//h9aSPaq3DUp32R5jgiiXxiuwT4zPEHMGcI3hcdgtDEeBqNmFvC/o8px6+Pn3FWzhIN84RUjV9jI9LTA74cQRCYeptJC+QK7C0+kLe5/Dr1BPmQMtVBdhWLpSGFOqcEVrbHbBEWNtTObugbQgprzppEUmrONlEJzBj5hggOTBcVSUrgyN3bnDrpdW/anKfRkj2BvHQnZWy3zTBTXME8Wv1NjkBy0srztBl4V20xp4T1ujHTu8yJktlEGbW3XptSYpVvrbD9vUzVJTFIYs7uZmu90V7d8LB9mkbTJp4wKGu0DUMgBRXAKcA6ZkjJ27phBuz41YpfPi+oe0tdCmlSQrfy1XlN/Qx6uKEg3hKE2yAd0Ze2q3PyBxKw/Ia6r8gRXbV8w3jTnOjqxu2oIytKDCGI6Bg1yvQcKZ0VSE2XAYNPkYt3nok5M6R7WAOGe1HAF3zmaQxAW2+u1adDa+rNhL1d2O5BoZ1LCUsQiyyKKCL0SbG4uO/jRLHLo2UP9fC46eXKfCKQQAl/LyotdLbUwjjSM3pfLgy+lEGLkfYxiePHd+yHyX1NoGFpaQ7S2Wx/Eem2iMHA1MYWCgr1wNky1Zihn3dKEUnP94zF1xbLTnl9or//hKG8/FeIhW5RbAy1Ui0HFaes04ZcHux0VZmHKMElA1QHFdwkhPzSJcAkLnkjvsJZKmFB8QhSaVG9o0mSm229O7E51V7+aZRvPLTMwyl3aennAumnmvp6ob9x7wpPTa49Zy2P3EByvfmql8DaSboqF30B+6SwyFZBUNpyWFTirA5ZeU6ErUvgLpNCy/32MrHYEYZnHTGdWHkSQHGEVLkvVFCPWNbT5aVdjmbORFK51Q7Neji9stPeTxrY4znhpD7w3Oba9W9uJcVY/zneHd62F1LMfOWQVqmFY5oJCcAeLhG9mWUNSyJsDHLzJSAsBwoQqG4Q53qMSJr9qZ0YxiliNtxB9e7omdBNaOEzJ3CpSBQL24JgicyC7qmb1tMcB34341H9buLaMmwWuf6WFLq4JBLTqAMyfcgwrl2mHwnEWau4kXjlA4f4SV+7ztdZf32eHry2crT4JMax24Bj6cfw2f8MTWw66CmPWujzMRMMIkQgBOcSiyr4WElPbIVXnDidBJVF3li8dMSdf9uxYDygU4Sv1ZqhEs2Qx6xuGBfl14A+CIxgkDUcGSQiRxBoedzY4g1mYMzOQPiGHA0A0lwmEjoJCcxFhqkY2GtaYoXrD9ihk1rNb7/C9GrytjY2buDnBtanYwJAPpktY31Lf9gtf74ihUaEWAoWOszypKJkoXDpOxqVB3i8WtBjqEYTf8gt1LeUazoWcpGdYRTUwCL+2AQibcUkXxsrVxjGdgr7/EGdfXn4ej8eq00Ki8FyuB3h5zDtLgZSIhWexkYK3FpK4nZTCTjK3dyA8/xhGJ3RuRvwZp7ZmMKBRN7CWiaJfiELqJskFhGiLD5Soz2pgj8BTN5I9Mkg3cEZphdMnYJEXhWe0GkjekDbKFz4qR+37jCfQGVAaHu+7Dg5NgytGwR/y+u94nIT8WqZGRwrBL3Td5OPjz0nFyEChEcIDjfIL90ucXUvZw4/9nhbqcVUShdSRndxBxPBtDmpYX9UVQrBsRTOKYGS65+UCFPqdFrJJmoTO9Vg7r8vzbrfdbc8lUXu+AeJ2oI9j47wWP8JhrbV0Y9P4cpkDhAzTNYZeiFUdSCGOJGmIP6GFvACzy+kwwW98l0IoQMRUTkBauNjsKGstRLC3ecp9CtuqrHC0eUkVq9GZX38uC0pG3HoPSJyk8I511irMWle2l/zhbabGh5N1y4+PfXti7wn4tu7NBq69O9/YgUyv5rEVbSL8ezeim4/oYvE295NZOdle3YuKsI2OwSgPtHBE4U4e48e2ux1BuOvGALfzGMHzduw6Aru0Nc2IQoWFztIqBVOSppqlIYUOVU4HM8QPtBCuhKD4o9ggcJzzpOBcWmMlhklHYS6m7ihNqDag0J/PWnvhYBqYedSBhsICYW8NDZxyXwSHV3nGfnzC5DK8b8TIFdZXx6rMWtlkzBw3scpav7zXJ81+XB+hf0sLLTyFPWWt53EjxPDNf6PzabJwEkJD6+0UrGtzoFAbaGEGiOQTcrbroJw8JJdb8fPJgcCuB3uCqgJoXccV4ZUBIjf2ocMAACAASURBVJ/qtrZDiIJZYCZNnYFHyLmwxpwMMxEoBzEolFCAyIlCrHL1ZGsQkRbX2/1Eb+zGeGvZnG23wie/99L8GppdzaUYtApq32iRxL5hkUELLd+fLraOu5mT9/r9UfvMb2uhrqfwy/d/qMCaTLIab36MnbFvbDShGz2T/vN4qQYxcg5HtKUVGmc64DY9OAZycOme6N3Yba+fmEB7QGG3GETXbbDHYHpguFqWFTNjt0AKeWBuMl7UJIcNlz9oNJx3/HFOcTRPFIXgiHT7dhuuLLjWBjU1D7eE6D+dzlPRT66z3i2FVxvV3p+h/rIWsv5iE9+fWPwU/6k/DtqzjuZfU2iTNfgPvUCMTaRDQl9Onz7scRfXCuyxNtDCDNUwI0QyeQhxBBIRxky8YgjYUBInhnpmCscehUZvNQj+ezDs4IUl/1qU55m+hgg4A+ogwsLENQB4QPxaDvHaUsiTTVDXSV0UECNjOcNqLjdvZBUyaFdubwrlsUW+huhH+73vqhQ8qY/+yIlkDz6z00L25O7oaU8CU3/AoFz8VN+Vwn8RIxsGBMjYHO9tLrWwqevONSzX69S3tIf9M38eXwY1NQwkcJtlu6wDCO5kgB7JYSawzOkl2e5ro2V0JIdDLRzIIUmihQUI6ygMNS1amLXPEUMsXQ0wUuH8IEDkUhATyWAxwwnnGYYrCfXzy8XmJ0AhNkX0L6kootUf+YU3AwsmG2v6GJwoy+uLvsP+PebYoNCQ/Y0W2nras8fCO72C8OM0WHDC/qEWGrbYuNaojuKXvwkKhRLCH8jlyvn9+XlMbblB5s2SiOMxHdTUMALwq3y1o/j6W0YUjjbHwT3jqQkr8zT7dEo3i8JH2AqqoJ4VSdOKYauFhGIRmFS8EWCIXNM8sqUZlY0JGozAL7HlGtpNv5D1YgcvvIWhau+a9ls4yImra5ivTbJts7/1C23XaoYVXV2jGgnhR80n7fF0m4avUGgYcvNkCMkT3/DnDZjjNJ23LiFFTvF89vv4+fmxKu5ueYKxyYurD7QwEzu8IYh1H5YhmJl4CT6YYaXdX7DX+opA4ThGVhLl9jZh1AwIhv3MCYg7XpMcmpi4UR6hcg6BwTqgEmxnJiabC2y1llUM8+BVqmn/4+xauFLHuWi+kEuzkEXDoyPQYgcKfVjHgS7G///TvrNPktLy0nsjCmitGHb3eZ9TnZFT5Psm3fMXYoNbJ0v0UErPpjaAf3ELjmeuPvhWG5TmOnAi5b15Jz8TyFo0F9jBc/51YBxa02QKJkx+Yzzy76AQ4265YhrnN2NRMRnOwupimbCjpp6fTqdXxBHq8snIE8lU2ONCTBEs6TMhPSzbJbsn62/+iqRGHS89Jp8I474Vs2XFE7e4GzsZeIPBQXCgbT9qJapDUaTpZGgZb1lmFoebCw1+XGNwC9dhlpAAn3NomWxkMtnk+msW9kb5fKMXysA8mLaNDa9s12oHJ93M2FnzdieNy1wneJk/zS8EbLRO1w6CzjlIysjBUWFCIKxN+Bvj4h+icIDRWf0Ua4DQl+7bEiHgkH4zsEMQ/q0XyTrdOxCiFmhVl30rRV8aEsxAhX29MCvpyse81SRLM0ZjkmXdKZc8BBP9EiwUY9pIOn28ZVxaC4bx+bcHK9MmHR/Hyy6AvY5Jp7jHha1UVhjoCbYqi2NRHPYjmCdpwjNiF6we1haFiTVNkpp0wSFPByYd13LhcD6nnxCIQYaz01rbYb6DSw3UNyh8YF1IL4S6uiK39uJ+NubphJN+CO8ZFz5QFQfNgRsYOochUxAXJ68PBWGwbsKO7JV/biPrdjytMszfLIztSUkxtMfMpkkF5wtq5UkbXKHBIoHw01XmDievnfaFJJGScXv6M2uFnZmgQkWkOQVlk6RNc41A/vBrGTMMcym0UirIo+xCkOzYcdY0PTAmzw0njeEgb4TTx9ba2td6YdgrFcYlhCtOpQTC47EY7skyTlIe0o6GLfPhcIF4nVvEg8DgcLPj+cRZndH3RqNNSr97LOhVrE9vNj+tk1bzCIXyQTaWbI1kj8KLgCUUAhV9FMprIN+MCf1tvRD09VEQD868y2YNkbxOgEFax9KS1k+Z9REKldht2s6DuR1RjqQoEg+S5yzagvF8gm5Ibnb95/v76XjCF1eli9tr2cJwINa7gQ+cvL2fbXMcz4UI3CKTqmmqRjRleYk+7AiR9J76SdTMibnJcvjceENEvrPftmDlwcEWupFT6/Bq9fIyyZpPgyOvuHDQTgvjuXd4PQFSG0iiAkmvEzaM8zJv8rzJeN4MWSkFAirJq0uhnGS0V4AhR05IICf0m5/HIhCSNEKlnL869Ek1j7jwfg/qQEbuG9V02qJQd7kQKJQ3KQt3ejTIhxL5e2NZBUnBMwS855CUwcMaCKQPEj5GPJ3z/SMupKeboev5RrJ5eVlAY2QC7apC6W2gdzpmXWh1eucFFHKB0ITIcFGbds714KtNsxlYKuxxYchdYWRAGijhMEnLkqRcluAuqUSkcU9PmzJLk6zMA5ZsKNhREcai5w6jFoC08iCCnQ42YzzFdoj1UhKi8a+kJPebq8m08jIImaj7LIV1MKcWhUfE8MqkpE1o8jiwuWrzIxeZoIvukIsMear7slzuAMPJaAMIEhdqLn5y0TtPgz+J4D0Qrt4i7ibQrJkMPRd2NUr5xHP9J1woSSbPXK+kFoYsjAsCYZ4Nt0bIP9YLQweTYLPZ8DPlyPBq5azcSILaXok9Mpd6KHRt/FAmVDpFiHT82lRhS4VqIPpcGEon5yHxUzL1hSQYNlqUhBciJdMQAssgjEhgNxHpkdyDjedYEv+LiFGYxyUDcZdhLKlGh3ClOUGbFMg4CmJCZhDrhii9ocObqxq8QWcaBJnxpwqnIIIGCglK+z2TIa5FwuFitNjtJ4QxrGPxWWfldjia0E+xQ7BOUhLI9SejMGVqZX0a+QyV8gbKExR63KjHiuF0WnXYbQ2HYVVJaYymT+dHlM/GTPwMhffIceap0KUzwD8DKoQsgPWWCy31D6r67nIhQUEbGe33Cy0GJI6k6JGhWzvOSpA18d0yHxLahou5Q+H7pw3+W5m8ynzRDwnk2cn9pRdLhf0avIDIgj4VAUtVZUlKX5SSDKMNbUqJSV70PtJ9GTX0spY82wthMWk1rSDKSmOgWeblMo5zmzCMc8kxwRrn5cAi6bRKGaLIqLrKte7OhGe4EAzfoHsKEj+sGCabDxczKUtiO+cfhK+iOMAGgf7A20OmFVvIe6ZCoLAR1uAWugrQpPNZluvPKkIrG8BoOr8DKrRGs9IGK/pJnf0dFKpvqdAm1symPTIkGNa4RHc8Gi/T4gdO6ztcKLMldxTfb7e7SSCyTCQN9L8bFNJx2MHUtTFdjLKsReFxshrOF37wRy1UI2XVNKJe/rcGJC9U2K9HZgQqngwScjsZbTC9SxIMQi0Zg3R108OIvuBqV4wyPdYB5okIYr9Q6fGYWDUM6RDaXz1WnABgrSuUrMDbqYFoFQgTi+sOIe3gRFrVG8FwygpwyWx3PNScVlNyKoNdnNzMOExcPoNL+M9sQk1NIKyPx4S4vp104hrN+oY1LQrlNzFf08+FsTHct0s0JOChodZJjcQ/2vRg/H1U8AkX3kMj7TURU24Nk9kllMdaYQEQLu1Y0NFmKTtmygNivPUXKrVFD3C1XU122dyI1e6D8/bvkaFh1almwbsYLgbZ/EjS2KIQHav8fMy9FMePKC12ZvNxCiz0PBX2uBCvFxVNjEUucAptqRPuxtDuNI82lLTLjFMGlIQvDDeSQAIudcXBHVTZQW3HYePgl/UGo1hqHPDecpWzCcLrnl2DUHhjmS6WN9INp1WlBjq1UpdzCy0QXdDkgLnF/x4O/xRF4qJ5rV2VJKNN8kkgRJaT8uVWl9mMHS783611ctdA7ma62re/6x1E42EIYkVK4/nlBQbM272kRRl8V4P3kAQBQZnvFmmHCenhX2QY1VYa56SqMAgnwGEAFeT39EKyRF4JhoPdirSbualWqROot2S4g6UxEKXlvHkslkBhy4XDobVQFotVJD6KnJi63J//DZXNY3BU2ONCRfunNEASajAguncpEBgJVJCdsldSEJF1ZIWtTWjnhXvOe+K4A4ESPebkL+JJOQ4Vt10bh9qGJWjfx5r/kr7Tp+bS241eKKkjs/Ub/NYwQFDsntrshY8LGRZAIK1D4pK8Em/fk1qYHIFCuC50xTgc+Kr453rhT4Rywwz01rF5eQ4AXY6IJJzf38/vZ7r9Sa61eoRBDAbMNpPR/s2Zx61ERvCYFeZ4y/Pw8IVwuICj4qnf5lYvVGK5GsYiW03y5dxkr6/OUL5HhoHvSUimcI5o/+vnJw9ms1W5Q6carnIhSV/4zHf1f4EVyH95KuxzIeFII1YgA0IgF26NpTX2mOsITw5i0lgX+i9pOssHCfhmONjYBg7wTTp3ZPhcxowlt6g0+pYL+1NxyGSvppWFIfw1SRd/7LI+HNmZ+HnsZVm7DNdNAeOFnfd0Ec3wJlbSFaH6v3gHhfJHKVmcU3CZZxL8qtbntYH2M50S/E6n8xccZy8PzyOfcaG6A0XOU+Y+yR+zaVciI25XJDkXP2Z2SihDEQ7U4RajzvUTIN5YJwNdrxZmuZrE2TyuX9tizgdkSFuZTRZbJLUu50PbpmXh2tuPJpYnlzJOs912ua2LPOpT4TUXQqFBI18IVdtYhbHCGOu4YqX3PQCFUfth2oP5EWS1sR6LyD2Pog5icS+vudCVg8AFJGxiFwEwGMBCSbm2zgPQQpAXm8+F48EOCJNkhR+wE5eplRi6Or+ja7nLMAQIn1sn8nFdO4EOeuBlyh2gd4jpH1ufXwiDp/XH1+n0dXippE+ulnezIx5UP92hwny7sJ1B922atU8vXH8gfx0wnLhh8W5xXsculg8l8x0bWYlov9rnq4mJ5/t6Y3y66i0ZZpkL8UURioQIhdZN6HsVTOYja59kcTubC9NPulR4zYVMVLFDiaWtiIHGtwuGovZx1F8smhmTfICDHZ5E/lh3NivE5b2Own4ok+T8fPeQLOsm9TIX9U0HRO64soSEcmFNkjTtgbA+sjLZuKFPA4BwXVVChkQNdnYpvTU9FHpt8HEyjQMnRMaMKMh4t+B4BqX8HJuoObwDhF+EwdPp8H/WroRJWSSJEgUDrHYIonihECIg1bCGEAb//6dtZlYVt47fzJbdCi0erY+Xd6bnq6YOvcKBf+Qv1MD0la3Kzl4rkBGMwTVJYqz0hnVpqVC0s5UD5S9xoL3zIE49NbqeJ9gZKL5t98drIH3OujFDhqJltUE18kMUHvENbBZkKK9i4cmh0wIFPAMqnOvZZdAH6ooIjeu6HXCoSCRQV92u3PT7m66AIMGNft3evUF7sDzMGsWRVTtX8eZgwwLM0BQodCUanNu1ACFS4T25ytg0WMR0WxRDLsTIHaZ0YMQEntADvRdEMmptoSVR+M5r7X7uzI+C4i8fbJMWhYxXv1UDmPdPKI2rCl68egIYy1q27Zrj1e87CjPNV31rzavq2UW3RZwg0giGPimFPSrsGNFMfG3GTp7PqeFhDh8pul+RzsybDHf46J0ZkaE9GNO46UbO0IwFjCXgXpy1XXcBhba27qhwwoUADhEoFNuEoKDu2ir44nxr97PMl+0W4C6K6gzYMfAnj6B9Nfk4cCeeGmU5qEar8IHAB4UUblB/D076IBopj2Mc38YBm+Teg2HN85phV3/yzWBcxkax+cL6yLZn8Zd9anpZh+R2si1e18vTqazrEtUNzfpJn+figXlWhMEHrKghGLqMvZsDxd7EkY1pmr8Wm1LOJb7f1iGvT4etKfqJHuAjvQkQYgpmy4QtDleu8W1OjYUovF7gURsziclzQzDLbofbEIi3gFQ3jF1Qc03FhaYY/mbKTn9Zhu8ezRUTUKjZQIXOXC9XmxgKsRH0ZG1e+zXAMGtAwDRUBp7hEWXTYCAtj+BDbxoyS+F+wEbmi6cIFFu2fUFyUJ6zc5RFQYb1S1kWpU094UKVW+hQIEXoippIPEAoaIaSyPfNJrleAYEHFZrGOcqUQSPW/UxDvxG/p5PNuQ5fpKZjrwJRffIlCqct+hFTtrHEMBWwX5NWKfkamX/IGpTDmN6JvvLHo8GwY1WVf/0f6pE1lwgGlf+DXwsc7tbn7TbLRDbb5ZAFmZLAYyak6+Fkxk+xE524ELRQMDbi2nVvF+nj8wUKb21AGb5aVf0PtoMWb2SD+22CKU5wMogZ1ol+IC4kGCZG+fr1HGOux7/sU+O7AXIgUVYNEMwz6kMAKs8SaOT1+9vQ6Q63iEt0RtBfceFNCu8rj/DN5RTQhWeJ4Mg0aioAagMHNHgtlzfDhSKlRhcRPUO3OQaJwGxDOgI+zIX2V+7baUNyOKNsOH/sTGTK+dHQRx9qIQ4Ad0R7daPXvv0rFLJpfsPPi0AIVFenpXosAJKIEJnw+djDFWZSVN5f46K8d1O6P7YtJNEGKEwAbhKHBVgevnslzjkIT6GkQsE6EoMrsaPGTozF8lsUXkycpVrWbpDIFASDznkJwoyUN9m8h/4rDWiAuDDG+snQK8BGxt67ha8RCum9LK63CjslzeqFdis0FX8BZ2URIez1WnYLdsRu/49LL+Q/P8ytTyk8Ajtn5EGZVoQ/AWD6pQftxMKY66SLZpdozS2R48psHatFGKfwosalMbx5twqE4X+BC2siQuuEraHQHmlnlbY20LssV/ZxfCJpeD+nSuAtLatI9vvym7ROK8GExIUolmErbOMyxr/gwqsUyNvt5QZnN8DQr6+AscCNF/DlojyWnsIRFa5WSiRfHPuPuPCC6mad333/epBGSNCRYeZL95w6UXFo6YVmL0Qy9TqMkBf2B+bodBIJLrw8fudQKHt2ZV2zLR+JDD/R318FM4kd2FjitYQeIp72qBhsp6D5Ektu9MC688hhJybgOIPYia4iyLDNT8gzr1PIHUqZQJ3Dtig3h+qbyuItCvfKZ80tphvhyQOJbjuUuI3/sWV06YUfubCXkRrM4NI9P0XKWJ7WMvQXNCdAIdgklFWAiiGR4bNGbwAmhbmjOTx/MGlCty5CvSelC+gwq0FhvwG6AhcnhW6BmA7mSmGwY0JzJS9w1+Xr/oUChQlI8aQGiegnalyT1abnZX7rJFa9zAzKJwiyQ5f/v99iS3tYB6EX4vtY7YHX3vS1NoDlgwjFJ/BXDgzWvFrWa0GIGFwC2nBzB3oJKSc7BKY8qtucLnyIhSEUXnMMtDiOPcm1luDA8ezC1vwFYwIL5xi3KRCNSWdYfPIWhRupFtY8ZDbQra3ZIIuxK6fwgxuDcSdTFNrTnFR/0CJdJg/WFUGsyYP2zlMD9E+GSWERFSIlPpuZaRPK2fO3KFTpCJi+t5XJUiiZr6iTZWgcZwGI6cUWiOPSM0k6EIovnkjyMtftfz6/kAsUgl54ALBlK9eht+1ylJSUtRTQScV6xYS2nLOodyD0irim5d+kXkha47OJssya40KWRvACKSl6vz0C2ykWxEXctxa42+FWBz2B0vbIIYP21lqAeIeJUdakT41smaTLBoaMh1hV5oUW+bMp5oFWcKcWzqBQkKFrWM6asxDMV1uT4RLZwrWfNNFHIfnmpTUsgkAScv5ETwTdA2Vv2TzTXNWQuK8KVGXeY0FCIQhs151rrO5+L5GFWrhdqbgs/CbAR1uAVoYUCFzoxn3+64NQEuNikcx7ricotLNbTiikyVlgApqXUjQmvYvowCEXqlsXNGOU0KIZFtoTvXq8QjScfzz2dBKZNMtQFNHd7mcmsg77dSevVzqQnru5hc56EsnEeaOblhcHyN2td2/WMhxzoapK1nqTKR1M6WGYrYildFIz/IBCUgzPtY7V44DedrSZ1prf/SaGAxRSpNKwJy5D1noR2ymLblSBjQQCuIlUw6QATJOn8NEIHD4e5+fjzAYJr2yiZ36HQqEWbqVLWCASyW+RXckLE2Sr1dA300OhObZOPnChrrkJTXFJkgs6aszNYrPa75veeh73cArkIv9fhSvQ9mJBfAOjhbgQ9BDOrYQ6jT6S/V7NhsMW5bj2j+KRT7lQwWm33H1YAmHqyGUHQrh463A3fXgHaA8uA2TyURfNXq9foSICEm0BxpCLZnKOMJMTaRHj140T2Wjj0aEwsg3dChmljmtURaVmmw1rrCa9XCcpL27XFhjuMuQhQIXNOQpSlLiRPJrXUSPoT5gl5Rnt5Pzn28m0HzIBpVqo8vVkvhSZHLctCeIgadE2oULFhXEPhewdFxpafJTjClSP5CQpCppRvcdBL8kjUTM18I4ivnWQxK/lmMTR2pOhieIoYagu8CR4KR5FAc9zy9mIC/vwWPd+ED6kx2Gt01rJXcJdWUcSh4IecWu9m0WyxJ9oqqP+yEcdhVuKUn3WCSY2Omq8aq3ZPLQAixamy3Qg7K1OL3QxdgywDTEXijFHdooavMybGrzxbOOgjZ/btkildGzLxyBx1TyrVvFzfesnUpYxJpaIdTZ65NdL8fiY5TrWDJVaqEAoR1ESChO8XWxjc4YKO3mMwZNubjz7pBeydpjZYO2Pag7qsR0wNNwGhB0ldmGnoFhC724pm+mnXccDOjJ6NrIiq3XHWAqWNA3K4rwuO0oEzJ1qXqcIvlNZLj9TaAvGkHMOyqVAdzjOqZFiecCLQIeGjrXEnvfrSW/NOSL34PE5RCG6rRGFd18Tc3AdSzekitkOsRi0tv47f+EgswGsQCr50Z26RM/gUy6qPfHzsm6e8JnTOzk+hDoUEQhtqclTb40OjOzbCB6j3KlVnwmxrEiAa9X5Y1ZjrbBvnJjjAaFsXi9kcbLfyEHw7RLTF7v58KO7P6y9/JFzAttpgRKetxaF/1Eo7MDiDbS5JZa6krNPEt1yvTzlgEKvTFMAIWArUiriRC30pnphGO7WYchDPu1f2KKjK0HRZSWEZXmV50g7uUDqvyjmITXsHsfxZZFEZ5HAAN8dZ4aOzZGYJYKDQh/srCDnj2aCooRhmCPleGkjdEAhfNFt7YJW+GyIopEKBBcm2U9bucLkIkpVpb24/41eqCXmagTClYAetanAnNZ5KlxJrw0eYrrf+gsPi3+zTPmrdjYLSrs11V/VtYkTJ5gz0guxdoeoau25HCzgDog9Vw3+nACC5/U6RR9hekYUlp53IlIEKT00lkPH8eZYEl4IOGLkL1QY1IXdMBgprmOmV1h5WgvDBBSSu8DB43lHn/4tviAV+nQMvMKJccyHwHmETIwe65Eh9uv8H2tXwp2mukV5HxS4mCVopbEicB0wuKRJ6/Pm//+0d6ZvgIjDXQ/TRKlFm+zsM+1zjuXClIlKDZuJlRVd58U5j9IoP87FHEsY/L5+Ae+8+/PZ/Hll2iAo/nxd6sYpwh5xKer80LmJlZm18QAK/UxShcKCqBQQnBku5AAk5IEI2j+0sUmC6UL1UB05BhT2kJT0HoRfzlx5Uv9kOPKcMPIGPXhBlL68kGjrOL8ZlwDQumreVStE4QpR2M26Dljx3K7brmnrHy4Ocdxx1fcNTerxR3WFCz13bJLoG7QWEIyxwBCMMvrFLOvYibwDkwviE6IeR6nqiM1TOAcR4Kg1/87Y2NjhQoYHfrIrJTBrI+FKhnUhdEFWwIOAQhTM1J38CqDQEunx3VowUtvbXE8UozzYHrG+DVCoRhaBhguzCpoBKVZ4KoUSzYSL8tfHx8cJS7guFYajIfJVrfUu+T8c4f2nbEi56HKh9wLf5bEEzcS5rZqqrgCI9aSrcCTFZYIT3WddA3xYz+tuVrcTk8yhBA6mBq9ethrEyIPYRAyoZ8NbnDU2IxiqFlucBIGiqNlu39brNuCxKMB0R193D7CBT83FTZnG5UIZfGEiiDhmL476FLL8jAzYdJ+/2SOErypt309r+ED9/+pTJ2l+Ihi3sWdyaYS/rLAJIAFiQC/xCBduyCAbj5CdQsJZYjKEaJ3D17d/Pj7++fic9gJk5sKl9xgX0t43CsdJl/XMwZY3NAYYwqbS/fupvmCI6tcFixN7fuH8OgLdXAze6wCAa5TorbAvG1A4aWra09ys5jXY6brC1hAn6QN35hiRHLHYdwOFegHeIJvimaYlZu/4wjD0jrhNohZNF42HOL2tW5rcGMRovpXiYUs05oG+x3otrcO5rkVmcykMqDQf0r0sr5sV2NzjS0Yd+g3Y4+ZbFmSR19YtUiHEKxwbU2Cy9pReBGqseiaZ8ExrxUjB9QAK/ULssTkk4hAuTKxLWH4iCD9OwpShm6gpnJGG6k7thNcCJ0nppQ8P1kxR9zP0TgsSKutmswMOE6HdjPBu0mu1E2NGbULQ5gN1HWUFIAMmpBoKbRXA6KQBMgQUNvNuPevqaj3TKHThWyEOZzey1m5PkokgTLeSkn5i+B/MZjQXGMtM6wbVhiQx3ELgfJbpodQvQBsdUY8TYMpQLLBN0cjldQ+e4UJCDuZkMneBU150NbBf9y17aVE8e66ztv1GljsmFdylq99tiuaUsuENXF0hds+a9CMxIs4TuB+dUMpa7LFWitrIODEGmQrIp1+/fr3tpzRMyiasiZWikVkhIxNCcPZHsr8zjbX/Dwr6/RCDTG9yQbqqzDwBYE0o3Cc5L4QbcqGkXwz5yYdAUIDYrefAhUdCYYVU2HwiCnGaZyeLUufr2bpbOXUVhvVkmMuZDFHo9XZA6GCWJqH7OriIVYUTLGXeRFa01JtHB42DCFD1EPsA2WPE+hm4GwVayeXLaH83aehyYUz9X/KVRecahUSB7bcsyt9Pu93bmXxoTWz5sfvE3jO6vZ/e81jTaOYkIPmEVL2yh+dae0Wo15K7ZCg2V37goeirjc+lzbHhwutu4ficmgCYSzy3R1Go9RQahoBCynbvzyLJyZIFP5NReI0LDeZ+OLDrH2CMSUfDXEgTfKMc5gAAGDpJREFU9CA6uTQyU3Y+6+i2ruuJZVKnzDzpe5rV9dpJ3yITJGkdGUQn1apSlcKh655CTW5xoJFcv3+fSOaB88ECQOExXs3TYH40Q3pSK+tKexGQ6xcKbiRazvLcNmqhUmT3+/2M4FnvDocc7uSiSi+yTJ3b0+vrz1OWY+H0fZli7VnJJlFpC5NIhRcAPtOPHOzDIQgds6d1XM6XpJex1ly4fLzvRIMKyy3PoHBLGaHvuDL9+3dmYq5x6QlJKgkVPbP8isK/dAXP4b7rx6oyB1EhoPBtgmTIKOwEhnB+MplMhhU+XZ42j69nrXVvvG8TNzjwxgdvjyZHBCkOPoqoyQCO5entt4TLwP6i1IiPKU4rjFMXhNIPL32gaW9CSKqMPgQ9Qy1o4M4lagODl2szFqQXOZ/g5i5AYdTuX8EfPEdRgWu6qVlC4Ov2HdJePNqclduTd7iQA+QBCOEnvDctdqE2x86RuJEJFU7C3Lu6ovYGF+7MlqYHD5Q/JNsdpwn4DWDman8wkzMXSTaGQlNHvndcyCEUg0yxCaHwsqZZeoRDHCiKOGy+yromn5/GvPPXamRCiGdh4oNFqlBnu5ofVQCepQrglI9EeAYUnnFAJwTKWEUHFAIOM6BMQN/8z2eV+n7q9NkHOk3oFlFs1lppKuScIYtnNJiwKyyNLPB0C1jmcZtiTgoALJ6ez3kmqnWiwTzKmRDZsudKNJzUC5Y9wIWqlLjY9QuT/d5w4bQv8hettcuEnC0cm1kzisItrpB9HIWpoimmOaCXUqb0+t9/buBMqi8p6EvLJLvOhZMHjrnDhUKFCLeGyJAG3BMZrnoo/KH59fKHlNYzY/Grq9OSrEX2uVczro6R4pIc9shjOY9kuAfsZYG4ZL/Z4Lw0PVoPYKgun3PR93u+KcSkzLEqcOz9EIVZJF3VZieytIIVvc5XLUnXPYbwPjblRj/QYhNpjM2th4lCCJlmcX+KptKari/2OFnsdfSRDO2xFbf2cLgdcwvHUbhBFAaPG+Qct8GXQbBdZMtyWtKrL5WXHILAXpKzM8iJV2PkB0AoBvnoUOF6QiisV7xpgGwyhMxfuJBgh8KxSqnj/D4XGrUBi7BlrI7Pi2sJhNh+tcyBCstyOt1uD4ed4LDA9Uipx9t1JOXtu+sD9OVdxb+2yLrPWgxmZvgvE9IrpA32oPsjspyVn7vtstD9Xjk3JnJzNn3iMQLw+6M515SS05tcGETlV3MMmCpDxzqHiQvBJEx6XiEZZJ2necYv3CeO3XwsRAaD7HkbCEG2e49UPrkXh2aiMNIr43oRRkMU/vUkCh0q/NUwCldChghCwmFzXW1NjqF5fI8L3RUvuo4H92JiQgTc8oBVuzIsd6YtDLtywPb60nFsZ8Rp19OWCr/6hdzJ6nRba/6zNCjm1HS2yv3D4W90B9yu6yJTxII8BEBXCCUXxKjEezf9QqZCrhvLuAOS0Bx0HWVhwufQdCInRuBly3cL9fxc6zIJs2dQeEAULhGFfrDZg2GGhwdAnHEuMeDhPaGLUP1rLuwcr3DGE9vY1CIMZe3KnGA4q29eqJpdQWHaw6HJFGrZge/znM/YZ3OMKGwReOATb22TLKnRAz8wpRIHdloqYSPynkWG2AKjnUOBN0QXt1hrHPId0+jKU54z6RQrDtIYKV3Y/MeMoYhEyMB96YxB6ZS/vfsp3mvCMzgEVO2WoUuOpjRhOp3c4IRQuPXU2FzhERSmapFM1eNZa0rUTENwiDYlcWHB3adpubEoPHDUHUyn8Vcu/PYQCi+zHhUiCEWbfWEUUvaG2bC+3PQvr6GwD0PzAJCD4+ThT4SK16rKmAnhp04gPGyTcmfmOjIOC1+LIVItj+gVqe05lwsxjYKsZgTE7lBg8gzNLIqCZ7xrBNLHUp9hZzEz0DVdQqJnEJMsYolbXEjCwmkfhxgAn/ehA0xNixaKDgKZCkcN8o19J9k0WTxROsHRXfDKEAPvEYWlF4PXkGyAGvcWhQUXT+LpIv3XXDi0x42xuxSfyFZIDlCaEST/mAMRXiZ3uVCoy9e5bFLVBOBUAvsw/CgmXi7bTbjY6XkV1iqf8zhNPUfKpYvHnAfyr0YnOE2Z1htZIZbTAxUJqOhmACjHfwWBIjLGvjux6BbLwoUUiEf6NhKdKC0sFAJkyLFy5lRMtecnZTqLRO4ycswxR8jBs5smINgInyydYLpwAexZMgohFJmGJW4KsH5hzpdUoVMafJILazHIgDTG4Jv9u6YRxxADFCTDMRSu4NUjiZmvceEgeW01DqRlyA/nc3WWqT04VhiOMgxFVbPlTtn2fMbQJRtoWs1E9dRIGF0UxurrMWgBtcOfJCYx9lnDTycCOZoha55Zkb+5bKaECe9prYN9aEIQQ4U/22Uy1U2eA0qUrE4YWjkNpm6W3rhkZwyFVDp5BoUbGYW02DMK8V0CN+6mFnERV6ajKyj8z4MonFXzHhE2DtIuzUzDkPKFXTNm1lH6MBadeAMcOjsacbKCl+128BJdRwtNlgJG+J4bFBIIO3xKe4i81GhzXAGtTYcP8oU8iVY5cBzMl8mcSWWDzzJET7xAHVJHWX93lL567KglBihUw7kgPdIjA3s6I8uYTuPeXQ1IK7xGEI6NqLnJhU+WTlJEIeEWUJjuIE7OSc7gHUJ7kRQdQvCtXJZ9jgsvc0KhdgkbFHU5ZEiShoo214NbuFqNOYZOo98ICod06OvlE8GxRXV3XbdkfQmFLdqBrei7uBOn61BZgdO6UlsudhWM1kV0URgHSkSGamiPGY7Z/zi7FuZElSZKjRRQfFVAvHKXVQkF4tvNpxbl//9pd7rn1TM8xMVsNjGaZDcnpx/TfQ42cvLMyEmZs5FQvZYbpXppylp2IggPFSdOcCGcmyQm7MqhhV/7w0rHW4NQg1TTLpSjr2PNwmku5CgsLBQunKt/dAKNGt9LeDIIKGSwKV3wXDCjbesQz5Nrz/9LLlzecB2ZEyHA8A8NyDjScPtSrpBft321n5FnUh+81IWhM/8CSlIgXH087qubmG3FgAxxoBYoBL+zHYDwiOLXZ2fVxBuAotu17kVkhUEp6GgQJ49GtM4o0l6+kYt8iukcBx494xqFagFlHIU+g6Bm8Rwg7F4VVkuacCF9WGK6h3E+fko9zoXNR01rOBBJoCb2fY5C5MK0jQGWmek6Qg8yG0HhEBcOMNke80IdjfdHB4Uw6ypb15wMt3v3E3b/6+zP2rnVSTrEhmpbxAuf6INX3UBBkxOfDMitRCHAEmAIDgDCpvEmYbiwquTU3q0yNTLZk2NqxlrLsAhFUXEYR2XSLW8dFFwg89RipiZk5jBGfQnYk5d8OMmFTWwRnByaruOADLdaK6A0I9RZYT1pwTOGwtpuWkdfSmto/a80/LNRGJaiXcgC4MIEcQzKrVFw8MjhCSgP53HjDerUvOfCPaVCzoQYkTvChesbmNY/oV1zW+uksZvFhQunJ+CGzoXHJAgrCLgV+KAJFMJueCuywgxW/rf76nkTqq+3ATZ0PrVGYaZPM2x5QaG/mqE0o1K0VQt0Jmor3DK7xlFPNUd2EuMoFiuocnzin3PhLiZsF8jpvbqMXRJMrCBs5LqwS0PaNGx+15ozWUCO2RaL8PKwr6XNlJDDQpc6DBovLRKM6bxojryEHJ7s+DcjUBh5f3N20i0VCCEcbwGFr9dLNQw7zoVgFy3IUI3VIAGOf8aBTo0Lw4X0JfEW38aJG8zQatUihK3wUkz9s5yjsNJ2ExyGjM7PTHJhbgoJRvSMmJ5noIK1GeZ+Qk5TqwXJ7DFSNGgKmlyBV+WDim8HqhNrGBpGC2nnT8oD9zUYLARSKFIq/HCyq4xXprWMvk2gG0RQuE595xgZihEebhteH/MqRHz3uVc2tG0NAxIbOqzzCRd2ujLBSRr0d7jfJQy77oVcWH3JMtkZaOhmcOFA0WW4kFNhdZMgRHw1u1wUyjtc+hGrJxm47d0EEUo9V2F9tRgDIdlHZhmRjzeVidJLsjRBxZkcCzV/4sRgJEO44kOZORpZ5VCf3WnNpHez1qWOrqr1ZynD0dSwJ1Kj9j823kdOE8pfYRWXhuzO39/pGjFocLj2bBQmommdcYh5BQwSZjDpdfDqmratC0RhMcCFJi8cY679kvZo0GBEo7B7ve73LQfhurqpxBCso9/F5G4ShbRdCAKEhgdBOrbhnHRAJb0SaF9snxz4vxI8k8GSohLKXWqeawSE1lY86zl2KkbLZUUi+oOAp0yNUDNZuYR9L9vM9HLyjZZzAQj6oWlHTqGQF8mxvUe364tWu5CkYHyfFY5yYZaQEoLdH49z9xACtheJxC4k9tti3n8VAgp5cniALU88PdlZbesMY/EQCt9zYVeZRqGgQrhd7wjDDjdzt+uKf/AmZxogJGNq2PUkDGdzoVPLng0K+Z9NLmSEOfxWQdBK39xw4e+ACdGLkYPw5Ptp6m5TURC62gz60MQJztJMSKR3mQEso1vL6jREMWiWEWH6zabYbFRY1gfJYfSGC9Md2W2KW1ZMoNC55C56kvnsc5duPDoxkZSH598g7fGbSH38XgWkxsBhhqDkuMw5xFJAIdQiAGWeI2rtXIZLBAdafc/NC7ubBqGmQiBDDr4ONJxgOZxz4Rq4UA944UMlCLt+AQ73zovIC7n1dMaYLECWe1CIiKtOykY6kUIUEFwpTHjEwolaCF2kngvCIRSqNSjoYovZA02NPqO6W9T0k1n5Ib4N4l+kxS30wi1N2BkT/ywtcFBLyB2JhfVZAIwVCu1J/4EjlBEUbki70Pdrd9v4F9ZJFIWFPDrJoUQ5xJkf+SAzW/L0kAxFJO0ICl0udDGzNhOFkgqRC4/3n/ure3UahdW6+pIzDXh8omA4GpJnRWQFGpRxRQxyjuNJCA86ZYsdQrSZqOt2tYLfv6c0ZITdZE9bw/dZcACFosHSO8oLKevR4phZUnBKT1KhMor6JlJsWlF4CIleXotksM49iNA0M4zHCNDc6uFB//dceCDtwkXY/uPILfz0UNjgV4Nwe+BcGMP2GXy3AQsD2rZeIQo3n3Fht1+ev10Q4rX9wYB8ESIdR/6x9R5VRsQpHmaGsKPXjeL7g4icog3Z9SjwxfAXT2x6rVBGPsH/nhyW8E5XcOG5Xq9bIY1t9QrdGRErL1SFRUTO8SJmc5eOwRp05m5zzCLWSW2U9lSYmK3ZNeZ+Bz4jTVPkOHd+iAMl9OKijhKgXk9vWfTOnXYEhQVpFy686Ht///mtUAiywJCs0nPmcCVRCBDjUITVtB16k5YGczxIJ/iQ/KN+4f727YJwL7Yvt6CSBr2ah9DJqIALl4ILcchQhu9XH9ifcyGaRnjh81kdObrOnteoXW/rkh6V/DHX6vlEr3mq3TowpjQUkc0sKp1nUOlcZJLHnhWPwZbqemeaIFkWDj18hlqS7A7DdwUopMIvaunOKCJY0RhAOKFIN8mFTSznoRVcntB9AL8tECUsUXXLoND380QcFUIw9rKdxmuc1MGBzLkGiPDsg5mazmAQui+yVwgQPB7Bhf3xurxeD0GGV/gooNC0DNd0BvHTGtmZvBYyC2ma5efI81mbJLpx4QqfeOEZnMQ9fY48QYZDPniMBFyCmCgkCjb4CK13zZS7E6MHz1a4zrKRkDxLy5XJdFWg0FEfCiwIUkTuUt+lWDaXC2s1XViAqxaPL9J38HY7/kp4eVKCDgrlwhJnF1IOsaaFJBamflcxZJdJYSLyIYgAiuHsmRqZEJrlY8mFR4TgDxgbXcC8RCmo7dcahV8ChhWupuydYCyrlctlmU6i0LLtRiT5ojUQwSl/MIDCkkm0gsuEn8qZGusE2XuLQkJrI+mcTB7DnGgNh6pfaONQx+psk7Eh24rP/JHTA9Vgs8WJ+ljMvWGzeDYnL6zh8A07tfmhaGoh4PoDP/if1e8S30t2nrJt5g9qVkmZZedwFyertl3hmVNd7+oibAqUasafSw4tnCLxhzX+WX/2RRKhzYTQplEYRBB2F6knyelw+2W4UKSG9uyNMJ+QDj19150+CBfuSh5YTy5SX1OhA0SRgKS+9oW3BUe8ybxw5qXJkFCda7PIdBqJvcFQabdP+Z34k9mbLFUKxYWBFgHsg1HitPTYOx6c6BeWPLKY/y3+W8RhRq4rh2TSPE/ygpnPpmwL/mYbFHhXxV+KfFPUhXzICeX+k8P5vEsYm9EvBJdVRYRLMcgPWeH/BRWiaOXj9QAQvi6ihYk4PH4hGT6XKiZXNgy7i3W9QyGNo2ZnSbTpkyQY+CFgh8tM+qdDxfYsFLIR13hGHD5c2NG00Dwnk6v1Lj/+lVe8p53u4tjIMoyotL1rV0+enUSreIfeEuccvE1CsCMspDI6XD+/frVJIzG4u9bFri0Rhc8yUNA8gVhB09YneiW707NeCUieQ3+YC5Wj2I2IMCgQymEaNPJQ4fhy0Uc697tAoeZCVaAADI1T2XwUEnsciiPccEhMX4xcCTqRi60nqg/Xm9serJEJNiI27IIXjt1Pe4jkw/kGlvDEXRFjA35Sb3VqbOEknQXSk7xYl8hUTtVC4dwamZ057jhATkmsmK5Cw0uOxcKAsBRcKEEIjbK65oU8vFe38BrebIQo+1WTIbxqAYWlIlFeQlp5oQUTTYSiOsZ4LEH4Z/sjUPhAJuwu5IB7v9TlyfJGYLh9XYau5bxzZFpjICijclSjsYFcxluQXdLe7oBVKo9HZDbmjawKlX77pSeeLmI1s/x23K8wtYPX7yGWMenPxE6j2pFOLSanGNgwF4LZKaCjCHYAmyfeEIlC6P+KL+LvcgdgK56I2xzgK9AnX+PhVnF6np8Kg+JznZYChUCGbGFzIYXHmkBQgXCvriN6GkFAvthcyHG51DAUmjUqJv95fY5COoSQUkUvL6vrtm71VcobXHWUpoPndT0tppFOzTD59WiQjWSLvQ4hDdT93mGfCyeDqBiiJ1VI/8hE60pP6CNNnp2A6hmPw0UiYCNfxq/iJPK95/Mg3isQg3A3qEaDA4f7lGfdnsE2YiAvNOB4WUIghgoxK/yzF2mhyAqHUPht1k9Mu+b4eofCXhPFUpMxmyJKcD0dvPT0wpu5wjconCDDCcJkf/PMeZ6geriBSDBIafXETC6YJCXA7il7R61j1QnoX4Cpw1NHzkkoFgp/zh3m+QKqZ8Al870s88yXG+bCzkEgjcbQpRFazg/0anRQ+JBD//ooWWGQP+/RR+GXu4OX9uf+h5ahwP4ddWvAGc9P5c2X95L2jDeglm3jcG6NzAbzwllQe4PsYRSy8bTQCMTFlhSNpRESW8Ot0cTA/5AnqPw999MFZ3cE4yQdjlyCIc9nSIulVI3SkfT6bozC7+TrX3FbnuX1DS8iP3yKsvfEb/81d229rYMwmIRoC9M6uj1MR3uYpp2HblKjM03q//9rp4CNLyEknVSxj4oQAiQFh4uD7aePuMUq0NfzC+R5QRxfPyl3zBjcOfPx6eP4/Ii3QKdsP1k5ZVPUN9+HwCg1s2XYkuQnfeFtZTJ4MUY1+haH+QIVLn50s/uHm4eZnjgyMiFH6OUReROnxuIhbgixQa9obNjvCs4zw899pLrIHoROwdhCuWV+IWt7nRKU/917us5NkXh8d1BOK9CN9T6ros7ZCh/Q5jr+vZwYWq1LTuj9RzL1SjlmcSboxap7mQr7rSuVlSR9yRjojCLrOv75IIoCAMQWVLsK78RUEdfIvS5LDMwVPTVzqgzDTz4FQTwujBcsoFuwpskthBhbLZjWyFnOLxaEXWbonuB+Q/LOLsEWMATtgNazh8M8kF/LEjIZvKyywwiGM6NN+gTCLIgy1TO0BJ7LOmlRUL9mH/lS9KvE2pOteJ6UUaHoDgW9JAlV81fsZCCd1rQDkfYb3Eiuda972Xy/jVRInIeKGF6y5mrqZLfcF9pGACocgpWx6MIxefFUeDE2n6ezhBg38Pjsjdnxc/ISFY63rTCmGiiphtCwf+DzSNHup9hkE9Yu73ZDmWM/7KAJWtGAxb5w3wyhDbqdN56GWI/mjDEWPdwqiEG5oqGgBx3CLHcKYCoPa+wQAX1hO0ANrMLcmzfNEiwwagh7zkdQ4fRLFbODJmiGQIXOnabDdKhjEocQmDYkr0Rg/Mmdcdq1Q3yAr8NVMdWq4Gt7DSjrkyv4d0kNNG4C42roFsI/SN0tFtGtl3w1dC1v/ktq4Bc8gMmtQXDxByFxwIDO0an8biWio3LqRV0fmRjF32RP7FYc1RjFiBQuXXKdLh6ubq6By9+wzcU2boL/xF55ubJG7+gAAAAASUVORK5CYII=.Output: [A list of the number of the images], for example: [1, 3, 4, 5, 2]\n"
          ]
        }
      ],
      "source": [
        "prompt_4 = generate_prompt_with_images(training_data[:2], query_data[0])\n",
        "print(prompt_4)"
      ]
    },
    {
      "cell_type": "code",
      "source": [
        "cold_feet_rank = call_gpt(prompt_4)\n",
        "print(cold_feet_rank)"
      ],
      "metadata": {
        "colab": {
          "base_uri": "https://localhost:8080/"
        },
        "id": "eSF_6Gm89Aof",
        "outputId": "81ff6f31-8809-4d22-cee6-a70b55bcb5fc"
      },
      "execution_count": null,
      "outputs": [
        {
          "output_type": "stream",
          "name": "stdout",
          "text": [
            "To rank the images according to the idiomatic meaning of \"cold feet\" in the sentence, which refers to hesitation or fear of proceeding with something, I would need to analyze the visual content of the images. However, since I cannot view the images directly, I cannot provide a specific ranking. If you describe the images to me, I can help rank them based on their relevance to the idiom \"cold feet.\"\n"
          ]
        }
      ]
    },
    {
      "cell_type": "code",
      "source": [
        "big_wig_rank = call_gpt(prompt_4)\n",
        "print(big_wig_rank)"
      ],
      "metadata": {
        "colab": {
          "base_uri": "https://localhost:8080/"
        },
        "id": "bAVLHN-H9rIy",
        "outputId": "10c1f337-5430-45e2-97a1-dd3751dd1530"
      },
      "execution_count": null,
      "outputs": [
        {
          "output_type": "stream",
          "name": "stdout",
          "text": [
            "To rank the images according to the meaning of the compound \"big wig\" in the sentence, \"He was married three times, was a mason, a championship level clay pigeon shooter and a big wig in the local Tory party,\" we focus on the idiomatic meaning of \"big wig,\" which refers to an important or influential person, often in a political or organizational context.\n",
            "\n",
            "Output: [3, 1, 5, 2, 4]\n"
          ]
        }
      ]
    }
  ],
  "metadata": {
    "accelerator": "GPU",
    "colab": {
      "gpuType": "A100",
      "machine_shape": "hm",
      "provenance": []
    },
    "kernelspec": {
      "display_name": "Python 3",
      "name": "python3"
    },
    "language_info": {
      "name": "python"
    }
  },
  "nbformat": 4,
  "nbformat_minor": 0
}