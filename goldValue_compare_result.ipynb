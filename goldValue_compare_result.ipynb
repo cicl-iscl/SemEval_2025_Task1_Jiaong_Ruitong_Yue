{
  "nbformat": 4,
  "nbformat_minor": 0,
  "metadata": {
    "colab": {
      "provenance": [],
      "authorship_tag": "ABX9TyNNQiJa1mM+RQUgzM5fN/iB",
      "include_colab_link": true
    },
    "kernelspec": {
      "name": "python3",
      "display_name": "Python 3"
    },
    "language_info": {
      "name": "python"
    }
  },
  "cells": [
    {
      "cell_type": "markdown",
      "metadata": {
        "id": "view-in-github",
        "colab_type": "text"
      },
      "source": [
        "<a href=\"https://colab.research.google.com/github/cicl-iscl/SemEval_2025_Task1_Jiaong_Ruitong_Yue/blob/main/goldValwithPlainbertResult.ipynb\" target=\"_parent\"><img src=\"https://colab.research.google.com/assets/colab-badge.svg\" alt=\"Open In Colab\"/></a>"
      ]
    },
    {
      "cell_type": "code",
      "execution_count": null,
      "metadata": {
        "id": "8N6iuiCEYjeW"
      },
      "outputs": [],
      "source": [
        "import pandas as pd\n",
        "\n",
        "def calculate_scores_per_compound(train_file, submission_file):\n",
        "    # Load the files as DataFrames\n",
        "    train_df = pd.read_csv(train_file, sep='\\t')\n",
        "    submission_df = pd.read_csv(submission_file, sep='\\t')\n",
        "\n",
        "    # Ensure the expected_order is in list format\n",
        "    train_df['expected_order'] = train_df['expected_order'].apply(eval)\n",
        "    submission_df['expected_order'] = submission_df['expected_order'].apply(eval)\n",
        "\n",
        "    # Create a mapping of compound to expected_order indices in the training file\n",
        "    train_indices = {\n",
        "        row['compound']: {image: idx for idx, image in enumerate(row['expected_order'])}\n",
        "        for _, row in train_df.iterrows()\n",
        "    }\n",
        "\n",
        "    # Initialize a dictionary to store scores per compound\n",
        "    scores = {}\n",
        "\n",
        "    # Compare the expected_order in the submission file\n",
        "    for _, row in submission_df.iterrows():\n",
        "        compound = row['compound']\n",
        "        if compound in train_indices:\n",
        "            train_order = train_indices[compound]\n",
        "            submission_order = {image: idx for idx, image in enumerate(row['expected_order'])}\n",
        "\n",
        "            # Initialize score for the compound\n",
        "            compound_score = 0\n",
        "\n",
        "            # Calculate the score based on index matches\n",
        "            for image, idx in submission_order.items():\n",
        "                if image in train_order:\n",
        "                    if train_order[image] != idx:\n",
        "                        compound_score -= 1  # Non-matching index decreases score\n",
        "\n",
        "            # Store the score for the compound\n",
        "            scores[compound] = compound_score\n",
        "\n",
        "    return scores\n",
        "\n",
        "# Specify file paths\n",
        "train_file_path = '/content/gdrive/MyDrive/subtask_a_train.tsv'\n",
        "submission_file_path = '/content/gdrive/MyDrive/submission.tsv'\n",
        "\n",
        "# Calculate and print the scores per compound\n",
        "scores = calculate_scores_per_compound(train_file_path, submission_file_path)\n",
        "\n",
        "# Filter compounds with high negative scores\n",
        "negative_scores = {compound: score for compound, score in scores.items() if score < 0}\n",
        "sorted_negative_scores = dict(sorted(negative_scores.items(), key=lambda item: item[1]))\n",
        "\n",
        "# Print compounds with high negative scores\n",
        "print(\"Compounds with high negative scores:\")\n",
        "for compound, score in sorted_negative_scores.items():\n",
        "    print(f\"Compound: {compound}, Score: {score}\")"
      ]
    }
  ]
}
